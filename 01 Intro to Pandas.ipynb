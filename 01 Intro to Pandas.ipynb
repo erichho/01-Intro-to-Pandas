{
 "cells": [
  {
   "cell_type": "markdown",
   "id": "3dde3595",
   "metadata": {},
   "source": [
    "# Intro to Pandas\n",
    "This Notebook is based was made to help explain how to start using the Pandas Library for Data Science and Data manipulation in general. \n",
    "Please check my Blog that goes along with this notebook for a better explanation:\n",
    "\n",
    "https://medium.com/@erichhohenstein/intro-to-pandas-9e52f9e77d8a"
   ]
  },
  {
   "cell_type": "markdown",
   "id": "f96946c4",
   "metadata": {},
   "source": [
    "## 01 Libraries"
   ]
  },
  {
   "cell_type": "code",
   "execution_count": 2,
   "id": "1dc43f92",
   "metadata": {},
   "outputs": [],
   "source": [
    "# These are the libraries we will be using. You can uncomment and run the line below to install them\n",
    "#!pip install pandas pyodbc matplotlib"
   ]
  },
  {
   "cell_type": "code",
   "execution_count": 1,
   "id": "c65ebcb9",
   "metadata": {},
   "outputs": [],
   "source": [
    "import pandas as pd\n",
    "import pyodbc"
   ]
  },
  {
   "cell_type": "markdown",
   "id": "f976d0b0",
   "metadata": {},
   "source": [
    "## 02 Getting the Data"
   ]
  },
  {
   "cell_type": "markdown",
   "id": "97bc566d",
   "metadata": {},
   "source": [
    "### • Reading CSV"
   ]
  },
  {
   "cell_type": "code",
   "execution_count": 2,
   "id": "1f7e6f5d",
   "metadata": {},
   "outputs": [],
   "source": [
    "df = pd.read_csv('netflix.csv')"
   ]
  },
  {
   "cell_type": "markdown",
   "id": "7e04711f",
   "metadata": {},
   "source": [
    "### • Show first row in Dataframe"
   ]
  },
  {
   "cell_type": "code",
   "execution_count": 3,
   "id": "2934817c",
   "metadata": {},
   "outputs": [
    {
     "data": {
      "text/html": [
       "<div>\n",
       "<style scoped>\n",
       "    .dataframe tbody tr th:only-of-type {\n",
       "        vertical-align: middle;\n",
       "    }\n",
       "\n",
       "    .dataframe tbody tr th {\n",
       "        vertical-align: top;\n",
       "    }\n",
       "\n",
       "    .dataframe thead th {\n",
       "        text-align: right;\n",
       "    }\n",
       "</style>\n",
       "<table border=\"1\" class=\"dataframe\">\n",
       "  <thead>\n",
       "    <tr style=\"text-align: right;\">\n",
       "      <th></th>\n",
       "      <th>show_id</th>\n",
       "      <th>type</th>\n",
       "      <th>title</th>\n",
       "      <th>director</th>\n",
       "      <th>cast</th>\n",
       "      <th>country</th>\n",
       "      <th>date_added</th>\n",
       "      <th>release_year</th>\n",
       "      <th>rating</th>\n",
       "      <th>duration</th>\n",
       "      <th>listed_in</th>\n",
       "      <th>description</th>\n",
       "    </tr>\n",
       "  </thead>\n",
       "  <tbody>\n",
       "    <tr>\n",
       "      <th>0</th>\n",
       "      <td>81145628</td>\n",
       "      <td>Movie</td>\n",
       "      <td>Norm of the North: King Sized Adventure</td>\n",
       "      <td>Richard Finn, Tim Maltby</td>\n",
       "      <td>Alan Marriott, Andrew Toth, Brian Dobson, Cole...</td>\n",
       "      <td>United States, India, South Korea, China</td>\n",
       "      <td>September 9, 2019</td>\n",
       "      <td>2019</td>\n",
       "      <td>TV-PG</td>\n",
       "      <td>90 min</td>\n",
       "      <td>Children &amp; Family Movies, Comedies</td>\n",
       "      <td>Before planning an awesome wedding for his gra...</td>\n",
       "    </tr>\n",
       "  </tbody>\n",
       "</table>\n",
       "</div>"
      ],
      "text/plain": [
       "    show_id   type                                    title  \\\n",
       "0  81145628  Movie  Norm of the North: King Sized Adventure   \n",
       "\n",
       "                   director  \\\n",
       "0  Richard Finn, Tim Maltby   \n",
       "\n",
       "                                                cast  \\\n",
       "0  Alan Marriott, Andrew Toth, Brian Dobson, Cole...   \n",
       "\n",
       "                                    country         date_added  release_year  \\\n",
       "0  United States, India, South Korea, China  September 9, 2019          2019   \n",
       "\n",
       "  rating duration                           listed_in  \\\n",
       "0  TV-PG   90 min  Children & Family Movies, Comedies   \n",
       "\n",
       "                                         description  \n",
       "0  Before planning an awesome wedding for his gra...  "
      ]
     },
     "execution_count": 3,
     "metadata": {},
     "output_type": "execute_result"
    }
   ],
   "source": [
    "df.head(1)"
   ]
  },
  {
   "cell_type": "markdown",
   "id": "972c02c5",
   "metadata": {},
   "source": [
    "### • Reading from Excel "
   ]
  },
  {
   "cell_type": "code",
   "execution_count": 4,
   "id": "0bd965ca",
   "metadata": {},
   "outputs": [
    {
     "data": {
      "text/html": [
       "<div>\n",
       "<style scoped>\n",
       "    .dataframe tbody tr th:only-of-type {\n",
       "        vertical-align: middle;\n",
       "    }\n",
       "\n",
       "    .dataframe tbody tr th {\n",
       "        vertical-align: top;\n",
       "    }\n",
       "\n",
       "    .dataframe thead th {\n",
       "        text-align: right;\n",
       "    }\n",
       "</style>\n",
       "<table border=\"1\" class=\"dataframe\">\n",
       "  <thead>\n",
       "    <tr style=\"text-align: right;\">\n",
       "      <th></th>\n",
       "      <th>show_id</th>\n",
       "      <th>type</th>\n",
       "      <th>title</th>\n",
       "      <th>director</th>\n",
       "      <th>cast</th>\n",
       "      <th>country</th>\n",
       "      <th>date_added</th>\n",
       "      <th>release_year</th>\n",
       "      <th>rating</th>\n",
       "      <th>duration</th>\n",
       "      <th>listed_in</th>\n",
       "      <th>description</th>\n",
       "    </tr>\n",
       "  </thead>\n",
       "  <tbody>\n",
       "    <tr>\n",
       "      <th>0</th>\n",
       "      <td>81145628</td>\n",
       "      <td>Movie</td>\n",
       "      <td>Norm of the North: King Sized Adventure</td>\n",
       "      <td>Richard Finn, Tim Maltby</td>\n",
       "      <td>Alan Marriott, Andrew Toth, Brian Dobson, Cole...</td>\n",
       "      <td>United States, India, South Korea, China</td>\n",
       "      <td>September 9, 2019</td>\n",
       "      <td>2019</td>\n",
       "      <td>TV-PG</td>\n",
       "      <td>90 min</td>\n",
       "      <td>Children &amp; Family Movies, Comedies</td>\n",
       "      <td>Before planning an awesome wedding for his gra...</td>\n",
       "    </tr>\n",
       "  </tbody>\n",
       "</table>\n",
       "</div>"
      ],
      "text/plain": [
       "    show_id   type                                    title  \\\n",
       "0  81145628  Movie  Norm of the North: King Sized Adventure   \n",
       "\n",
       "                   director  \\\n",
       "0  Richard Finn, Tim Maltby   \n",
       "\n",
       "                                                cast  \\\n",
       "0  Alan Marriott, Andrew Toth, Brian Dobson, Cole...   \n",
       "\n",
       "                                    country         date_added  release_year  \\\n",
       "0  United States, India, South Korea, China  September 9, 2019          2019   \n",
       "\n",
       "  rating duration                           listed_in  \\\n",
       "0  TV-PG   90 min  Children & Family Movies, Comedies   \n",
       "\n",
       "                                         description  \n",
       "0  Before planning an awesome wedding for his gra...  "
      ]
     },
     "execution_count": 4,
     "metadata": {},
     "output_type": "execute_result"
    }
   ],
   "source": [
    "df = pd.read_excel('netflix.xlsx')\n",
    "df.head(1)"
   ]
  },
  {
   "cell_type": "markdown",
   "id": "273b9c29",
   "metadata": {},
   "source": [
    "### • Reading from SQL table\n",
    "To create a connection to a SQL database, you need to setup an ODBC connection.\n",
    "In this blog, there is a step by step guid on how to do just that:\n",
    "https://medium.com/@erichhohenstein/intro-to-pandas-9e52f9e77d8a"
   ]
  },
  {
   "cell_type": "code",
   "execution_count": null,
   "id": "5c4a5d9b",
   "metadata": {},
   "outputs": [],
   "source": [
    "server = \"10.21.120.88\"   # Server IP Address\n",
    "database = \"dataBaseName\" # Name of the database. The name of the table goes in the Query\n",
    "username = \"usr\"          # Username\n",
    "password = \"password\"     # Password\n",
    "#Create connection\n",
    "cnxn = pyodbc.connect(\"DRIVER={SQL Server}; SERVER=\"+server+\";DATABASE=\"+database+\";UID=\"+username+\";PWD=\"+password)\n",
    "cursor = cnxn.cursor()\n",
    "# Read with SQL query\n",
    "df = pd.read_sql(\"select * from myDataBase\",cnxn)\n"
   ]
  },
  {
   "cell_type": "markdown",
   "id": "720e4837",
   "metadata": {},
   "source": [
    "## 03 Data Exploration"
   ]
  },
  {
   "cell_type": "markdown",
   "id": "1fe3c89f",
   "metadata": {},
   "source": [
    "### • Showing first N Rows"
   ]
  },
  {
   "cell_type": "code",
   "execution_count": 5,
   "id": "12acf617",
   "metadata": {},
   "outputs": [
    {
     "data": {
      "text/html": [
       "<div>\n",
       "<style scoped>\n",
       "    .dataframe tbody tr th:only-of-type {\n",
       "        vertical-align: middle;\n",
       "    }\n",
       "\n",
       "    .dataframe tbody tr th {\n",
       "        vertical-align: top;\n",
       "    }\n",
       "\n",
       "    .dataframe thead th {\n",
       "        text-align: right;\n",
       "    }\n",
       "</style>\n",
       "<table border=\"1\" class=\"dataframe\">\n",
       "  <thead>\n",
       "    <tr style=\"text-align: right;\">\n",
       "      <th></th>\n",
       "      <th>show_id</th>\n",
       "      <th>type</th>\n",
       "      <th>title</th>\n",
       "      <th>director</th>\n",
       "      <th>cast</th>\n",
       "      <th>country</th>\n",
       "      <th>date_added</th>\n",
       "      <th>release_year</th>\n",
       "      <th>rating</th>\n",
       "      <th>duration</th>\n",
       "      <th>listed_in</th>\n",
       "      <th>description</th>\n",
       "    </tr>\n",
       "  </thead>\n",
       "  <tbody>\n",
       "    <tr>\n",
       "      <th>0</th>\n",
       "      <td>81145628</td>\n",
       "      <td>Movie</td>\n",
       "      <td>Norm of the North: King Sized Adventure</td>\n",
       "      <td>Richard Finn, Tim Maltby</td>\n",
       "      <td>Alan Marriott, Andrew Toth, Brian Dobson, Cole...</td>\n",
       "      <td>United States, India, South Korea, China</td>\n",
       "      <td>September 9, 2019</td>\n",
       "      <td>2019</td>\n",
       "      <td>TV-PG</td>\n",
       "      <td>90 min</td>\n",
       "      <td>Children &amp; Family Movies, Comedies</td>\n",
       "      <td>Before planning an awesome wedding for his gra...</td>\n",
       "    </tr>\n",
       "    <tr>\n",
       "      <th>1</th>\n",
       "      <td>80117401</td>\n",
       "      <td>Movie</td>\n",
       "      <td>Jandino: Whatever it Takes</td>\n",
       "      <td>NaN</td>\n",
       "      <td>Jandino Asporaat</td>\n",
       "      <td>United Kingdom</td>\n",
       "      <td>September 9, 2016</td>\n",
       "      <td>2016</td>\n",
       "      <td>TV-MA</td>\n",
       "      <td>94 min</td>\n",
       "      <td>Stand-Up Comedy</td>\n",
       "      <td>Jandino Asporaat riffs on the challenges of ra...</td>\n",
       "    </tr>\n",
       "    <tr>\n",
       "      <th>2</th>\n",
       "      <td>70234439</td>\n",
       "      <td>TV Show</td>\n",
       "      <td>Transformers Prime</td>\n",
       "      <td>NaN</td>\n",
       "      <td>Peter Cullen, Sumalee Montano, Frank Welker, J...</td>\n",
       "      <td>United States</td>\n",
       "      <td>September 8, 2018</td>\n",
       "      <td>2013</td>\n",
       "      <td>TV-Y7-FV</td>\n",
       "      <td>1 Season</td>\n",
       "      <td>Kids' TV</td>\n",
       "      <td>With the help of three human allies, the Autob...</td>\n",
       "    </tr>\n",
       "  </tbody>\n",
       "</table>\n",
       "</div>"
      ],
      "text/plain": [
       "    show_id     type                                    title  \\\n",
       "0  81145628    Movie  Norm of the North: King Sized Adventure   \n",
       "1  80117401    Movie               Jandino: Whatever it Takes   \n",
       "2  70234439  TV Show                       Transformers Prime   \n",
       "\n",
       "                   director  \\\n",
       "0  Richard Finn, Tim Maltby   \n",
       "1                       NaN   \n",
       "2                       NaN   \n",
       "\n",
       "                                                cast  \\\n",
       "0  Alan Marriott, Andrew Toth, Brian Dobson, Cole...   \n",
       "1                                   Jandino Asporaat   \n",
       "2  Peter Cullen, Sumalee Montano, Frank Welker, J...   \n",
       "\n",
       "                                    country         date_added  release_year  \\\n",
       "0  United States, India, South Korea, China  September 9, 2019          2019   \n",
       "1                            United Kingdom  September 9, 2016          2016   \n",
       "2                             United States  September 8, 2018          2013   \n",
       "\n",
       "     rating  duration                           listed_in  \\\n",
       "0     TV-PG    90 min  Children & Family Movies, Comedies   \n",
       "1     TV-MA    94 min                     Stand-Up Comedy   \n",
       "2  TV-Y7-FV  1 Season                            Kids' TV   \n",
       "\n",
       "                                         description  \n",
       "0  Before planning an awesome wedding for his gra...  \n",
       "1  Jandino Asporaat riffs on the challenges of ra...  \n",
       "2  With the help of three human allies, the Autob...  "
      ]
     },
     "execution_count": 5,
     "metadata": {},
     "output_type": "execute_result"
    }
   ],
   "source": [
    "df = pd.read_csv('netflix.csv')\n",
    "#Show top 3 rows\n",
    "df.head(3)"
   ]
  },
  {
   "cell_type": "markdown",
   "id": "bcd534e7",
   "metadata": {},
   "source": [
    "### • List all column names"
   ]
  },
  {
   "cell_type": "code",
   "execution_count": 6,
   "id": "8a5c42e4",
   "metadata": {},
   "outputs": [
    {
     "data": {
      "text/plain": [
       "Index(['show_id', 'type', 'title', 'director', 'cast', 'country', 'date_added',\n",
       "       'release_year', 'rating', 'duration', 'listed_in', 'description'],\n",
       "      dtype='object')"
      ]
     },
     "execution_count": 6,
     "metadata": {},
     "output_type": "execute_result"
    }
   ],
   "source": [
    "df.columns"
   ]
  },
  {
   "cell_type": "markdown",
   "id": "f00b93fd",
   "metadata": {},
   "source": [
    "### • Show count for each distinct element in a column: Value Counts"
   ]
  },
  {
   "cell_type": "code",
   "execution_count": 7,
   "id": "c687678d",
   "metadata": {},
   "outputs": [
    {
     "data": {
      "text/plain": [
       "Movie      4265\n",
       "TV Show    1969\n",
       "Name: type, dtype: int64"
      ]
     },
     "execution_count": 7,
     "metadata": {},
     "output_type": "execute_result"
    }
   ],
   "source": [
    "df[\"type\"].value_counts()"
   ]
  },
  {
   "cell_type": "markdown",
   "id": "f448a803",
   "metadata": {},
   "source": [
    "### • Getting useful statistics"
   ]
  },
  {
   "cell_type": "code",
   "execution_count": 8,
   "id": "ae3a1ee0",
   "metadata": {},
   "outputs": [
    {
     "data": {
      "text/plain": [
       "count    6234.00000\n",
       "mean     2013.35932\n",
       "std         8.81162\n",
       "min      1925.00000\n",
       "25%      2013.00000\n",
       "50%      2016.00000\n",
       "75%      2018.00000\n",
       "max      2020.00000\n",
       "Name: release_year, dtype: float64"
      ]
     },
     "execution_count": 8,
     "metadata": {},
     "output_type": "execute_result"
    }
   ],
   "source": [
    "df[\"release_year\"].describe()"
   ]
  },
  {
   "cell_type": "markdown",
   "id": "42961ea9",
   "metadata": {},
   "source": [
    "### • Other useful functions\n",
    "Here are some other neat functions you should try on you own: Group by, min(), max(), mean(), sum()"
   ]
  },
  {
   "cell_type": "markdown",
   "id": "9b5bc59e",
   "metadata": {},
   "source": [
    "## 04 Visualizing the data"
   ]
  },
  {
   "cell_type": "markdown",
   "id": "1f1f0614",
   "metadata": {},
   "source": [
    "### • Histogram"
   ]
  },
  {
   "cell_type": "code",
   "execution_count": 9,
   "id": "3877932e",
   "metadata": {},
   "outputs": [
    {
     "data": {
      "text/plain": [
       "<AxesSubplot:>"
      ]
     },
     "execution_count": 9,
     "metadata": {},
     "output_type": "execute_result"
    },
    {
     "data": {
      "image/png": "[encoded data removed]",
      "text/plain": [
       "<Figure size 432x288 with 1 Axes>"
      ]
     },
     "metadata": {
      "needs_background": "light"
     },
     "output_type": "display_data"
    }
   ],
   "source": [
    "df[\"release_year\"].hist(bins=10)"
   ]
  },
  {
   "cell_type": "markdown",
   "id": "9ba7114d",
   "metadata": {},
   "source": [
    "### • Bar chart"
   ]
  },
  {
   "cell_type": "code",
   "execution_count": 10,
   "id": "1406db73",
   "metadata": {},
   "outputs": [
    {
     "data": {
      "text/plain": [
       "<AxesSubplot:title={'center':'Movies by Country'}>"
      ]
     },
     "execution_count": 10,
     "metadata": {},
     "output_type": "execute_result"
    },
    {
     "data": {
      "image/png": "[encoded data removed]",
      "text/plain": [
       "<Figure size 432x288 with 1 Axes>"
      ]
     },
     "metadata": {
      "needs_background": "light"
     },
     "output_type": "display_data"
    }
   ],
   "source": [
    "df['country'].value_counts().head(5).plot.bar(title=\"Movies by Country\")"
   ]
  },
  {
   "cell_type": "markdown",
   "id": "964d4e63",
   "metadata": {},
   "source": [
    "### • Line plot"
   ]
  },
  {
   "cell_type": "code",
   "execution_count": 28,
   "id": "0269794e",
   "metadata": {},
   "outputs": [
    {
     "data": {
      "text/plain": [
       "<AxesSubplot:title={'center':'Movies released in the last 20 years'}>"
      ]
     },
     "execution_count": 28,
     "metadata": {},
     "output_type": "execute_result"
    },
    {
     "data": {
      "image/png": "[encoded data removed]",
      "text/plain": [
       "<Figure size 432x288 with 1 Axes>"
      ]
     },
     "metadata": {
      "needs_background": "light"
     },
     "output_type": "display_data"
    }
   ],
   "source": [
    "df['release_year'].value_counts().sort_index().tail(30).plot.line(title=\"Movies released in the last 20 years\")\n"
   ]
  },
  {
   "cell_type": "markdown",
   "id": "97aaaa9c",
   "metadata": {},
   "source": [
    "## 05 Transforming the data\n"
   ]
  },
  {
   "cell_type": "markdown",
   "id": "dc64e0bd",
   "metadata": {},
   "source": [
    "### • Merge(Join)"
   ]
  },
  {
   "cell_type": "code",
   "execution_count": null,
   "id": "056de072",
   "metadata": {},
   "outputs": [],
   "source": [
    "df = pd.merge(df1, df2, on = \"keyColum\", how = 'inner')\n"
   ]
  },
  {
   "cell_type": "markdown",
   "id": "5d8c0798",
   "metadata": {},
   "source": [
    "### • Concatenation\n",
    "Remember: They must have same column names and same order"
   ]
  },
  {
   "cell_type": "code",
   "execution_count": null,
   "id": "e817ad69",
   "metadata": {},
   "outputs": [],
   "source": [
    "df  = pd.concat([df1, df2])"
   ]
  },
  {
   "cell_type": "markdown",
   "id": "a034298c",
   "metadata": {},
   "source": [
    "### • Pivot"
   ]
  },
  {
   "cell_type": "code",
   "execution_count": null,
   "id": "637716b7",
   "metadata": {},
   "outputs": [],
   "source": [
    "pivot_df = pd.pivot_table(countries_df,  columns = 'Country', values = 'NewConfirmed')"
   ]
  },
  {
   "cell_type": "markdown",
   "id": "d2cdf185",
   "metadata": {},
   "source": [
    "### • String functions"
   ]
  },
  {
   "cell_type": "code",
   "execution_count": null,
   "id": "44491faa",
   "metadata": {},
   "outputs": [],
   "source": [
    "# Convert column to UPPER CASE\n",
    "countries_df['Country_upper'] = countries_df['Country'].str.upper()\n",
    "#  Convert column to lower case\n",
    "countries_df['CountryCode_lower']=countries_df['CountryCode'].str.lower()\n",
    "# Finding length of characters in the country column\n",
    "countries_df['len'] = countries_df['Country'].str.len()"
   ]
  },
  {
   "cell_type": "markdown",
   "id": "6c39658d",
   "metadata": {},
   "source": [
    "### • Filtering your Dataframe"
   ]
  },
  {
   "cell_type": "code",
   "execution_count": null,
   "id": "c61859a5",
   "metadata": {},
   "outputs": [],
   "source": [
    "#filtering\n",
    "filteredDf = df[df['release_year']==2020]"
   ]
  },
  {
   "cell_type": "markdown",
   "id": "78d9c58c",
   "metadata": {},
   "source": [
    "### • Apply function"
   ]
  },
  {
   "cell_type": "code",
   "execution_count": 36,
   "id": "0be5c8b9",
   "metadata": {},
   "outputs": [],
   "source": [
    "def upper(title):\n",
    "    newTitle = str(title).upper()\n",
    "    return newTitle\n",
    "df['TITLE'] = df['title'].apply(lambda x: upper(x))"
   ]
  },
  {
   "cell_type": "markdown",
   "id": "77cf1ff4",
   "metadata": {},
   "source": [
    "## 06 Output the data\n",
    "\n"
   ]
  },
  {
   "cell_type": "markdown",
   "id": "d0140e37",
   "metadata": {},
   "source": [
    "### • Write to Excel File"
   ]
  },
  {
   "cell_type": "code",
   "execution_count": 39,
   "id": "280d1d94",
   "metadata": {},
   "outputs": [],
   "source": [
    "df.to_excel('myData.xlsx',index=False, sheet_name='Sheet1')"
   ]
  },
  {
   "cell_type": "markdown",
   "id": "692609af",
   "metadata": {},
   "source": [
    "### • Write to CSV file"
   ]
  },
  {
   "cell_type": "code",
   "execution_count": 40,
   "id": "8f49d43a",
   "metadata": {},
   "outputs": [],
   "source": [
    "df.to_csv('myData.csv',index=False)"
   ]
  },
  {
   "cell_type": "markdown",
   "id": "cff4870a",
   "metadata": {},
   "source": [
    "### • Write to SQL table"
   ]
  },
  {
   "cell_type": "code",
   "execution_count": null,
   "id": "aadcf510",
   "metadata": {},
   "outputs": [],
   "source": [
    "df.to_sql('myData', conn, if_exists='replace', index = False)\n"
   ]
  }
 ],
 "metadata": {
  "kernelspec": {
   "display_name": "Python 3 (ipykernel)",
   "language": "python",
   "name": "python3"
  },
  "language_info": {
   "codemirror_mode": {
    "name": "ipython",
    "version": 3
   },
   "file_extension": ".py",
   "mimetype": "text/x-python",
   "name": "python",
   "nbconvert_exporter": "python",
   "pygments_lexer": "ipython3",
   "version": "3.10.2"
  }
 },
 "nbformat": 4,
 "nbformat_minor": 5
}
